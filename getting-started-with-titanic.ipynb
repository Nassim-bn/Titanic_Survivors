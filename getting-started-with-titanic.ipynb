{
 "cells": [
  {
   "cell_type": "markdown",
   "id": "4e5ab454-2743-4bd1-b844-8633017c6a05",
   "metadata": {},
   "source": [
    "# Titanic Survival Prediction\n",
    "\n",
    "## **Project Description**\n",
    "The challenge is to predict which passengers survived the Titanic disaster based on their characteristics, such as name, age, ticket price, and class. By analyzing the provided data, the goal is to build a model that determines whether a passenger survived or not.\n",
    "\n",
    "## **The Data**\n",
    "This project uses three main files, accessible via the \"Data\" tab on the competition page:\n",
    "\n",
    "### **1. train.csv**\n",
    "- Contains detailed information about **891 passengers** of the Titanic.\n",
    "- Each row represents a passenger, with columns describing their features (e.g., age, sex, class) and a binary `Survived` column (1 = survived, 0 = did not survive).\n",
    "- Used to train the model and identify survival patterns.\n",
    "\n",
    "### **2. test.csv**\n",
    "- Contains similar information to `train.csv` for **418 passengers**, but without the `Survived` column.\n",
    "- Your task is to predict the survival of these passengers using the patterns found in `train.csv`.\n",
    "\n",
    "### **3. gender_submission.csv**\n",
    "- An example submission file:\n",
    "  - Includes two columns: `PassengerId` (IDs from `test.csv`) and `Survived` (predictions: 1 = survived, 0 = did not survive).\n",
    "  - This file assumes that all female passengers survived and all male passengers did not. Your actual predictions will likely differ.\n",
    "## **Objective**\n",
    "- Build a machine learning model to predict passenger survival.\n",
    "- Submit predictions in a file structured like `gender_submission.csv`.\n",
    "- Evaluate your model's performance based on the accuracy of your predictions.\n",
    "\n",
    "## **Motivation**\n",
    "This project serves as an excellent introduction to machine learning, providing hands-on experience with data exploration, pattern recognition, and predictive modeling.\n"
   ]
  },
  {
   "cell_type": "markdown",
   "id": "f9f4e0ef-902b-459d-b03b-a1a27bc399de",
   "metadata": {},
   "source": [
    "### **1. Environment Setup**\n",
    "This section initializes the Python environment and loads essential libraries for data analysis (`numpy`, `pandas`). It also scans the Kaggle input directory to list the available data files. This is useful for verifying that all necessary files are accessible.\n"
   ]
  },
  {
   "cell_type": "code",
   "execution_count": 1,
   "id": "742b9a80",
   "metadata": {
    "_cell_guid": "b1076dfc-b9ad-4769-8c92-a6c4dae69d19",
    "_uuid": "8f2839f25d086af736a60e9eeb907d3b93b6e0e5",
    "execution": {
     "iopub.execute_input": "2024-12-10T15:31:07.489775Z",
     "iopub.status.busy": "2024-12-10T15:31:07.489385Z",
     "iopub.status.idle": "2024-12-10T15:31:08.322978Z",
     "shell.execute_reply": "2024-12-10T15:31:08.321807Z"
    },
    "papermill": {
     "duration": 0.840458,
     "end_time": "2024-12-10T15:31:08.325349",
     "exception": false,
     "start_time": "2024-12-10T15:31:07.484891",
     "status": "completed"
    },
    "tags": []
   },
   "outputs": [
    {
     "name": "stdout",
     "output_type": "stream",
     "text": [
      "/kaggle/input/titanic/train.csv\n",
      "/kaggle/input/titanic/test.csv\n",
      "/kaggle/input/titanic/gender_submission.csv\n"
     ]
    }
   ],
   "source": [
    "# The Kaggle environment includes pre-installed analytics libraries \n",
    "# such as numpy and pandas, which are essential for this project.\n",
    "\n",
    "import numpy as np\n",
    "import pandas as pd\n",
    "\n",
    "# List all files in the input directory to verify data availability.\n",
    "# The files are stored in a read-only directory: \"../input/\"\n",
    "\n",
    "import os\n",
    "for dirname, _, filenames in os.walk('/kaggle/input'):\n",
    "    for filename in filenames:\n",
    "        print(os.path.join(dirname, filename))\n",
    "\n",
    "# Outputs are stored in the \"/kaggle/working/\" directory and preserved when saved.\n",
    "# Temporary files can be written to \"/kaggle/temp/\" but won't persist after the session ends."
   ]
  },
  {
   "cell_type": "markdown",
   "id": "1ee2440c-71ae-4804-a092-815ad5e62456",
   "metadata": {},
   "source": [
    "### Loading the Titanic Dataset\n",
    "\n",
    "The dataset is loaded from the Kaggle Titanic competition's input directory using `pandas`. The `train.csv` file contains the training data, which includes information about the passengers, such as their age, sex, class, and whether they survived or not. \n",
    "\n",
    "The `train_data.head()` function is used to display the first few rows of the dataset, providing a quick overview of its structure and the features available.\n"
   ]
  },
  {
   "cell_type": "code",
   "execution_count": 2,
   "id": "1630f2ac",
   "metadata": {
    "execution": {
     "iopub.execute_input": "2024-12-10T15:31:08.332823Z",
     "iopub.status.busy": "2024-12-10T15:31:08.331782Z",
     "iopub.status.idle": "2024-12-10T15:31:08.369893Z",
     "shell.execute_reply": "2024-12-10T15:31:08.368877Z"
    },
    "papermill": {
     "duration": 0.043966,
     "end_time": "2024-12-10T15:31:08.372138",
     "exception": false,
     "start_time": "2024-12-10T15:31:08.328172",
     "status": "completed"
    },
    "tags": []
   },
   "outputs": [
    {
     "data": {
      "text/html": [
       "<div>\n",
       "<style scoped>\n",
       "    .dataframe tbody tr th:only-of-type {\n",
       "        vertical-align: middle;\n",
       "    }\n",
       "\n",
       "    .dataframe tbody tr th {\n",
       "        vertical-align: top;\n",
       "    }\n",
       "\n",
       "    .dataframe thead th {\n",
       "        text-align: right;\n",
       "    }\n",
       "</style>\n",
       "<table border=\"1\" class=\"dataframe\">\n",
       "  <thead>\n",
       "    <tr style=\"text-align: right;\">\n",
       "      <th></th>\n",
       "      <th>PassengerId</th>\n",
       "      <th>Survived</th>\n",
       "      <th>Pclass</th>\n",
       "      <th>Name</th>\n",
       "      <th>Sex</th>\n",
       "      <th>Age</th>\n",
       "      <th>SibSp</th>\n",
       "      <th>Parch</th>\n",
       "      <th>Ticket</th>\n",
       "      <th>Fare</th>\n",
       "      <th>Cabin</th>\n",
       "      <th>Embarked</th>\n",
       "    </tr>\n",
       "  </thead>\n",
       "  <tbody>\n",
       "    <tr>\n",
       "      <th>0</th>\n",
       "      <td>1</td>\n",
       "      <td>0</td>\n",
       "      <td>3</td>\n",
       "      <td>Braund, Mr. Owen Harris</td>\n",
       "      <td>male</td>\n",
       "      <td>22.0</td>\n",
       "      <td>1</td>\n",
       "      <td>0</td>\n",
       "      <td>A/5 21171</td>\n",
       "      <td>7.2500</td>\n",
       "      <td>NaN</td>\n",
       "      <td>S</td>\n",
       "    </tr>\n",
       "    <tr>\n",
       "      <th>1</th>\n",
       "      <td>2</td>\n",
       "      <td>1</td>\n",
       "      <td>1</td>\n",
       "      <td>Cumings, Mrs. John Bradley (Florence Briggs Th...</td>\n",
       "      <td>female</td>\n",
       "      <td>38.0</td>\n",
       "      <td>1</td>\n",
       "      <td>0</td>\n",
       "      <td>PC 17599</td>\n",
       "      <td>71.2833</td>\n",
       "      <td>C85</td>\n",
       "      <td>C</td>\n",
       "    </tr>\n",
       "    <tr>\n",
       "      <th>2</th>\n",
       "      <td>3</td>\n",
       "      <td>1</td>\n",
       "      <td>3</td>\n",
       "      <td>Heikkinen, Miss. Laina</td>\n",
       "      <td>female</td>\n",
       "      <td>26.0</td>\n",
       "      <td>0</td>\n",
       "      <td>0</td>\n",
       "      <td>STON/O2. 3101282</td>\n",
       "      <td>7.9250</td>\n",
       "      <td>NaN</td>\n",
       "      <td>S</td>\n",
       "    </tr>\n",
       "    <tr>\n",
       "      <th>3</th>\n",
       "      <td>4</td>\n",
       "      <td>1</td>\n",
       "      <td>1</td>\n",
       "      <td>Futrelle, Mrs. Jacques Heath (Lily May Peel)</td>\n",
       "      <td>female</td>\n",
       "      <td>35.0</td>\n",
       "      <td>1</td>\n",
       "      <td>0</td>\n",
       "      <td>113803</td>\n",
       "      <td>53.1000</td>\n",
       "      <td>C123</td>\n",
       "      <td>S</td>\n",
       "    </tr>\n",
       "    <tr>\n",
       "      <th>4</th>\n",
       "      <td>5</td>\n",
       "      <td>0</td>\n",
       "      <td>3</td>\n",
       "      <td>Allen, Mr. William Henry</td>\n",
       "      <td>male</td>\n",
       "      <td>35.0</td>\n",
       "      <td>0</td>\n",
       "      <td>0</td>\n",
       "      <td>373450</td>\n",
       "      <td>8.0500</td>\n",
       "      <td>NaN</td>\n",
       "      <td>S</td>\n",
       "    </tr>\n",
       "  </tbody>\n",
       "</table>\n",
       "</div>"
      ],
      "text/plain": [
       "   PassengerId  Survived  Pclass  \\\n",
       "0            1         0       3   \n",
       "1            2         1       1   \n",
       "2            3         1       3   \n",
       "3            4         1       1   \n",
       "4            5         0       3   \n",
       "\n",
       "                                                Name     Sex   Age  SibSp  \\\n",
       "0                            Braund, Mr. Owen Harris    male  22.0      1   \n",
       "1  Cumings, Mrs. John Bradley (Florence Briggs Th...  female  38.0      1   \n",
       "2                             Heikkinen, Miss. Laina  female  26.0      0   \n",
       "3       Futrelle, Mrs. Jacques Heath (Lily May Peel)  female  35.0      1   \n",
       "4                           Allen, Mr. William Henry    male  35.0      0   \n",
       "\n",
       "   Parch            Ticket     Fare Cabin Embarked  \n",
       "0      0         A/5 21171   7.2500   NaN        S  \n",
       "1      0          PC 17599  71.2833   C85        C  \n",
       "2      0  STON/O2. 3101282   7.9250   NaN        S  \n",
       "3      0            113803  53.1000  C123        S  \n",
       "4      0            373450   8.0500   NaN        S  "
      ]
     },
     "execution_count": 2,
     "metadata": {},
     "output_type": "execute_result"
    }
   ],
   "source": [
    "train_data = pd.read_csv(\"/kaggle/input/titanic/train.csv\")\n",
    "train_data.head()"
   ]
  },
  {
   "cell_type": "markdown",
   "id": "d2687849-14eb-4d41-8dad-812f211285dc",
   "metadata": {},
   "source": [
    "### Loading the Titanic Test Dataset\n",
    "\n",
    "The test dataset is loaded from the Kaggle Titanic competition's input directory using `pandas`. The `test.csv` file contains the data for passengers that will be used for making predictions. Unlike the training dataset, the test dataset does not contain the 'Survived' column, which is the target variable we aim to predict.\n",
    "\n",
    "The `test_data.head()` function is used to display the first few rows of the test dataset, providing an overview of its structure and the features available for making predictions.\n"
   ]
  },
  {
   "cell_type": "code",
   "execution_count": null,
   "id": "193dc3e5-fb4e-435b-98c8-ad40ec6e6cca",
   "metadata": {},
   "outputs": [],
   "source": [
    "test_data = pd.read_csv(\"/kaggle/input/titanic/test.csv\")\n",
    "test_data.head()"
   ]
  },
  {
   "cell_type": "markdown",
   "id": "f2797b22-b270-4a18-9367-92f9f7aafd36",
   "metadata": {},
   "source": [
    "### Calculating the Survival Rate for Women\n",
    "\n",
    "In this section, we are filtering the training data to extract the survival information for female passengers. We use the `loc` function to filter rows where the 'Sex' column is equal to 'female' and then select the 'Survived' column. "
   ]
  },
  {
   "cell_type": "code",
   "execution_count": 4,
   "id": "55e99a4a-26f1-45a2-a35f-9d7069defb78",
   "metadata": {
    "execution": {
     "iopub.execute_input": "2024-12-10T15:31:08.409923Z",
     "iopub.status.busy": "2024-12-10T15:31:08.409106Z",
     "iopub.status.idle": "2024-12-10T15:31:08.420987Z",
     "shell.execute_reply": "2024-12-10T15:31:08.419782Z"
    },
    "papermill": {
     "duration": 0.018189,
     "end_time": "2024-12-10T15:31:08.423368",
     "exception": false,
     "start_time": "2024-12-10T15:31:08.405179",
     "status": "completed"
    },
    "scrolled": true,
    "tags": []
   },
   "outputs": [
    {
     "name": "stdout",
     "output_type": "stream",
     "text": [
      "% of women who survived: 0.7420382165605095\n"
     ]
    }
   ],
   "source": [
    "women = train_data.loc[train_data.Sex == 'female'][\"Survived\"]\n",
    "rate_women = sum(women)/len(women)\n",
    "\n",
    "print(\"% of women who survived:\", rate_women)"
   ]
  },
  {
   "cell_type": "markdown",
   "id": "102b49d3-f8a9-48d9-bb47-d87a2d58b976",
   "metadata": {},
   "source": [
    "### Calculating the Survival Rate for Men\n",
    "\n",
    "In this section, we are filtering the training data to extract the survival information for male passengers. We use the `loc` function to filter rows where the 'Sex' column is equal to 'male' and then select the 'Survived' column. "
   ]
  },
  {
   "cell_type": "code",
   "execution_count": 5,
   "id": "4e260ce4",
   "metadata": {
    "execution": {
     "iopub.execute_input": "2024-12-10T15:31:08.430976Z",
     "iopub.status.busy": "2024-12-10T15:31:08.430596Z",
     "iopub.status.idle": "2024-12-10T15:31:08.438479Z",
     "shell.execute_reply": "2024-12-10T15:31:08.437334Z"
    },
    "papermill": {
     "duration": 0.014058,
     "end_time": "2024-12-10T15:31:08.440477",
     "exception": false,
     "start_time": "2024-12-10T15:31:08.426419",
     "status": "completed"
    },
    "tags": []
   },
   "outputs": [
    {
     "name": "stdout",
     "output_type": "stream",
     "text": [
      "% of men who survived: 0.18890814558058924\n"
     ]
    }
   ],
   "source": [
    "men = train_data.loc[train_data.Sex == 'male'][\"Survived\"]\n",
    "rate_men = sum(men)/len(men)\n",
    "\n",
    "print(\"% of men who survived:\", rate_men)"
   ]
  },
  {
   "cell_type": "markdown",
   "id": "6ebb0078-124a-4acf-a92e-07a7192cbda7",
   "metadata": {},
   "source": [
    "### Gender-Based Survival Analysis\n",
    "\n",
    "From the analysis, it becomes evident that a significant difference in survival rates exists between male and female passengers. Around **75%** of women on board survived, whereas only **19%** of men survived. This stark contrast suggests that gender is a strong predictor of survival, making the submission file in `gender_submission.csv` a reasonable initial guess for predictions.\n",
    "\n",
    "However, basing predictions solely on gender (i.e., a single feature) is quite simplistic. It limits the ability to capture more complex patterns that could lead to more accurate predictions. By considering multiple features simultaneously, we can uncover more sophisticated relationships in the data that may improve our model's performance.\n",
    "\n",
    "While manually exploring every possible pattern across various features would be time-consuming and inefficient, **machine learning** provides an efficient solution by automating the process of pattern discovery. By training a model on multiple features, we can make better-informed predictions for survival.\n"
   ]
  },
  {
   "cell_type": "markdown",
   "id": "0230ca3c-f6e8-492e-aa48-73f5c466e39a",
   "metadata": {},
   "source": [
    "### Building a Machine Learning Model: Random Forest\n",
    "\n",
    "In this section, we'll build a **random forest model**. A random forest consists of multiple decision trees. Each tree makes its own prediction based on passenger data and \"votes\" on whether a passenger survived. The final prediction is made based on the majority vote from all the trees in the forest.\n",
    "\n",
    "We will use the features **Pclass**, **Sex**, **SibSp**, and **Parch** from the dataset to train the model. The training data comes from `train.csv`, and the model will generate predictions for the passengers in `test.csv`. These predictions will be saved in a new CSV file called `submission.csv`."
   ]
  },
  {
   "cell_type": "markdown",
   "id": "9a3c439d-bc8e-4d76-8721-c4b9753ce423",
   "metadata": {},
   "source": [
    "### Model Training and Prediction Using Random Forest\n",
    "\n",
    "In this section, we build a **Random Forest** model to predict passenger survival on the Titanic. Here's a breakdown of the process:\n",
    "\n",
    "1. **Target Variable (y)**: \n",
    "   The target variable `y` represents whether each passenger survived, which is extracted from the `Survived` column of the training data (`train_data`).\n",
    "\n",
    "2. **Features (X)**:\n",
    "   The model uses the following features to make predictions:\n",
    "   - `Pclass`: The class of the passenger (1st, 2nd, or 3rd class)\n",
    "   - `Sex`: The gender of the passenger (male or female)\n",
    "   - `SibSp`: The number of siblings or spouses aboard\n",
    "   - `Parch`: The number of parents or children aboard\n",
    "   \n",
    "   We convert these categorical features into numerical values using `pd.get_dummies`, which performs one-hot encoding.\n",
    "\n",
    "3. **Random Forest Model**:\n",
    "   A `RandomForestClassifier` is initialized with the following settings:\n",
    "   - `n_estimators=100`: This means the model will create 100 individual decision trees.\n",
    "   - `max_depth=5`: This limits the maximum depth of each tree to prevent overfitting.\n",
    "   - `random_state=1`: Ensures reproducibility of results by fixing the random seed.\n",
    "\n",
    "4. **Model Training**:\n",
    "   The model is trained using the training data (`X` as the features and `y` as the target variable). The model learns patterns from the features to make predictions about survival.\n",
    "\n",
    "5. **Predictions**:\n",
    "   The trained model is then used to predict the survival outcomes for the passengers in the `test_data` dataset, using the same features (`X_test`).\n",
    "\n",
    "6. **Output**:\n",
    "   The predictions are stored in a DataFrame with `PassengerId` and the predicted `Survived` values. This DataFrame is saved as a CSV file called `submission.csv` for submission.\n",
    "\n",
    "The process concludes"
   ]
  },
  {
   "cell_type": "code",
   "execution_count": 6,
   "id": "dca4c402",
   "metadata": {
    "execution": {
     "iopub.execute_input": "2024-12-10T15:31:08.448122Z",
     "iopub.status.busy": "2024-12-10T15:31:08.447719Z",
     "iopub.status.idle": "2024-12-10T15:31:10.284968Z",
     "shell.execute_reply": "2024-12-10T15:31:10.283709Z"
    },
    "papermill": {
     "duration": 1.843725,
     "end_time": "2024-12-10T15:31:10.287252",
     "exception": false,
     "start_time": "2024-12-10T15:31:08.443527",
     "status": "completed"
    },
    "tags": []
   },
   "outputs": [
    {
     "name": "stdout",
     "output_type": "stream",
     "text": [
      "Your submission was successfully saved!\n"
     ]
    }
   ],
   "source": [
    "from sklearn.ensemble import RandomForestClassifier\n",
    "\n",
    "y = train_data[\"Survived\"]\n",
    "\n",
    "features = [\"Pclass\", \"Sex\", \"SibSp\", \"Parch\"]\n",
    "X = pd.get_dummies(train_data[features])\n",
    "X_test = pd.get_dummies(test_data[features])\n",
    "\n",
    "model = RandomForestClassifier(n_estimators=100, max_depth=5, random_state=1)\n",
    "model.fit(X, y)\n",
    "predictions = model.predict(X_test)\n",
    "\n",
    "output = pd.DataFrame({'PassengerId': test_data.PassengerId, 'Survived': predictions})\n",
    "output.to_csv('submission.csv', index=False)\n",
    "print(\"Your submission was successfully saved!\")"
   ]
  },
  {
   "cell_type": "markdown",
   "id": "a69ec43d-a5ad-4500-bd1a-adc6f7193abc",
   "metadata": {},
   "source": [
    "### Conclusion\n",
    "\n",
    "At the end of this process, the model has made predictions for the test data, which are stored in a CSV file called `submission.csv`. This file contains the predicted survival outcomes for each passenger in the test set, with two columns: `PassengerId` and `Survived`."
   ]
  },
  {
   "cell_type": "markdown",
   "id": "ef456be6-a6df-42c2-b8d9-7fef98deea4b",
   "metadata": {},
   "source": [
    "### Submission Output\n",
    "\n",
    "| PassengerId | Survived |\n",
    "|-------------|----------|\n",
    "| 892         | 0        |\n",
    "| 893         | 1        |\n",
    "| 894         | 0        |\n",
    "| 895         | 0        |\n",
    "| 896         | 1        |\n"
   ]
  },
  {
   "cell_type": "code",
   "execution_count": null,
   "id": "3765b848-13ee-4162-9c6c-9f94846f2470",
   "metadata": {},
   "outputs": [],
   "source": []
  }
 ],
 "metadata": {
  "kaggle": {
   "accelerator": "none",
   "dataSources": [
    {
     "databundleVersionId": 26502,
     "sourceId": 3136,
     "sourceType": "competition"
    }
   ],
   "dockerImageVersionId": 30804,
   "isGpuEnabled": false,
   "isInternetEnabled": false,
   "language": "python",
   "sourceType": "notebook"
  },
  "kernelspec": {
   "display_name": "Python 3 (ipykernel)",
   "language": "python",
   "name": "python3"
  },
  "language_info": {
   "codemirror_mode": {
    "name": "ipython",
    "version": 3
   },
   "file_extension": ".py",
   "mimetype": "text/x-python",
   "name": "python",
   "nbconvert_exporter": "python",
   "pygments_lexer": "ipython3",
   "version": "3.9.0"
  },
  "papermill": {
   "default_parameters": {},
   "duration": 6.184225,
   "end_time": "2024-12-10T15:31:10.918220",
   "environment_variables": {},
   "exception": null,
   "input_path": "__notebook__.ipynb",
   "output_path": "__notebook__.ipynb",
   "parameters": {},
   "start_time": "2024-12-10T15:31:04.733995",
   "version": "2.6.0"
  }
 },
 "nbformat": 4,
 "nbformat_minor": 5
}
